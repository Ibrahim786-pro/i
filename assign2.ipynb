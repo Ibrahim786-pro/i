{
 "cells": [
  {
   "cell_type": "code",
   "execution_count": 42,
   "metadata": {},
   "outputs": [
    {
     "name": "stdout",
     "output_type": "stream",
     "text": [
      "Enter your Mathematics marks?5\n",
      "Enter your Science marks?5\n",
      "Enter your English marks?5\n",
      "Enter your Urdu marks?5\n",
      "Enter your Islamiat marks?5\n",
      "         Marksheet\n",
      "Subject          Grade\n",
      "Mathematics        F\n",
      "Science            F\n",
      "English            F\n",
      "Urdu               F\n",
      "Islamiat           F\n",
      "Overall            F\n"
     ]
    }
   ],
   "source": [
    "# 1. Write a program which takes 5 inputs from user for different subject’smarks,\n",
    "# total it and generate mark sheet using grades ?\n",
    "math=int(input(\"Enter your Mathematics marks?\"))\n",
    "sci=int(input(\"Enter your Science marks?\"))\n",
    "eng=int(input(\"Enter your English marks?\"))\n",
    "urdu=int(input(\"Enter your Urdu marks?\"))\n",
    "isl=int(input(\"Enter your Islamiat marks?\"))\n",
    "total=math+sci+eng+urdu+isl\n",
    "avg=total//5\n",
    "list=[math, sci,eng, urdu, isl, avg]\n",
    "list1=['Mathematics', 'Science','English', 'Urdu', 'Islamiat', 'Overall']\n",
    "print(\"       Marksheet\")\n",
    "print(\"Subject          Grade\")\n",
    "for i in range(len(list)):\n",
    "    print(list1[i], end =\" \")\n",
    "    for j in range(15-len(list1[i])):\n",
    "        print(\"\", end =\" \")\n",
    "    if(list[i]>=90):\n",
    "        print(\"   A\")\n",
    "    elif(list[i]>=80 and list[i]<90):\n",
    "        print(\"   B\")\n",
    "    elif(list[i]>=70 and list[i]<80):\n",
    "        print(\"   C\")\n",
    "    elif(list[i]>=60 and list[i]<70):\n",
    "        print(\"   D\")\n",
    "    else:\n",
    "        print(\"   F\")"
   ]
  },
  {
   "cell_type": "code",
   "execution_count": 43,
   "metadata": {},
   "outputs": [
    {
     "name": "stdout",
     "output_type": "stream",
     "text": [
      "Enter Number?4\n",
      "The number is even.\n"
     ]
    }
   ],
   "source": [
    "# 2. Write a program which take input from user and identify that the given\n",
    "# number is even or odd?\n",
    "num=int(input(\"Enter Number?\"))\n",
    "if num%2==0:\n",
    "    print(\"The number is even.\")\n",
    "else:\n",
    "    print(\"The number is odd.\")"
   ]
  },
  {
   "cell_type": "markdown",
   "metadata": {},
   "source": []
  },
  {
   "cell_type": "code",
   "execution_count": null,
   "metadata": {},
   "outputs": [],
   "source": [
    "# 3. Write a program which print the length of the list?\n",
    "list=[5,4,8,9,7,4,5,6,4,4,5,6,6]\n",
    "print(len(list))"
   ]
  },
  {
   "cell_type": "code",
   "execution_count": 10,
   "metadata": {},
   "outputs": [
    {
     "name": "stdout",
     "output_type": "stream",
     "text": [
      "Sum of all numbers in list is 73\n"
     ]
    }
   ],
   "source": [
    "# 4. Write a Python program to sum all the numeric items in a list?\n",
    "list=[5,4,8,9,7,4,5,6,4,4,5,6,6]\n",
    "print(\"Sum of all numbers in list is \"+str(sum(list)))"
   ]
  },
  {
   "cell_type": "code",
   "execution_count": 9,
   "metadata": {},
   "outputs": [
    {
     "name": "stdout",
     "output_type": "stream",
     "text": [
      "The maximum number in the list is 9\n"
     ]
    }
   ],
   "source": [
    "# 5. Write a Python program to get the largest number from a numeric list.\n",
    "list=[5,4,8,9,7,4,5,6,4,4,5,6,6]\n",
    "print(\"The maximum number in the list is \"+ str(max(list)))"
   ]
  },
  {
   "cell_type": "code",
   "execution_count": 11,
   "metadata": {},
   "outputs": [
    {
     "name": "stdout",
     "output_type": "stream",
     "text": [
      "1\n",
      "1\n",
      "2\n",
      "3\n"
     ]
    }
   ],
   "source": [
    "# 6. Take a list, say for example this one: a = [1, 1, 2, 3, 5, 8, 13, 21, 34, 55, 89] and \n",
    "# write a program that prints out all the elements of the list that are less than 5.\n",
    "a = [1, 1, 2, 3, 5, 8, 13, 21, 34, 55, 89]\n",
    "for i in range(len(a)):\n",
    "    if a[i]<5:\n",
    "        print(a[i])\n"
   ]
  },
  {
   "cell_type": "code",
   "execution_count": null,
   "metadata": {},
   "outputs": [],
   "source": []
  },
  {
   "cell_type": "code",
   "execution_count": null,
   "metadata": {},
   "outputs": [],
   "source": []
  }
 ],
 "metadata": {
  "kernelspec": {
   "display_name": "Python 3",
   "language": "python",
   "name": "python3"
  },
  "language_info": {
   "codemirror_mode": {
    "name": "ipython",
    "version": 3
   },
   "file_extension": ".py",
   "mimetype": "text/x-python",
   "name": "python",
   "nbconvert_exporter": "python",
   "pygments_lexer": "ipython3",
   "version": "3.7.4"
  }
 },
 "nbformat": 4,
 "nbformat_minor": 2
}
